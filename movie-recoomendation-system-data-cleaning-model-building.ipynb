{
 "cells": [
  {
   "cell_type": "code",
   "execution_count": 1,
   "metadata": {},
   "outputs": [],
   "source": [
    "import numpy as np\n",
    "import pandas as pd\n",
    "import ast\n",
    "from sklearn.feature_extraction.text import CountVectorizer\n",
    "from sklearn.metrics.pairwise import cosine_similarity\n",
    "import pickle"
   ]
  },
  {
   "cell_type": "code",
   "execution_count": 2,
   "metadata": {},
   "outputs": [],
   "source": [
    "df = pd.read_csv('movies.csv')"
   ]
  },
  {
   "cell_type": "markdown",
   "metadata": {},
   "source": [
    "## Basic Overview of dataset"
   ]
  },
  {
   "cell_type": "code",
   "execution_count": 4,
   "metadata": {},
   "outputs": [
    {
     "data": {
      "text/html": [
       "<div>\n",
       "<style scoped>\n",
       "    .dataframe tbody tr th:only-of-type {\n",
       "        vertical-align: middle;\n",
       "    }\n",
       "\n",
       "    .dataframe tbody tr th {\n",
       "        vertical-align: top;\n",
       "    }\n",
       "\n",
       "    .dataframe thead th {\n",
       "        text-align: right;\n",
       "    }\n",
       "</style>\n",
       "<table border=\"1\" class=\"dataframe\">\n",
       "  <thead>\n",
       "    <tr style=\"text-align: right;\">\n",
       "      <th></th>\n",
       "      <th>adult</th>\n",
       "      <th>backdrop_path</th>\n",
       "      <th>genre_ids</th>\n",
       "      <th>id</th>\n",
       "      <th>original_language</th>\n",
       "      <th>original_title</th>\n",
       "      <th>overview</th>\n",
       "      <th>popularity</th>\n",
       "      <th>poster_path</th>\n",
       "      <th>release_date</th>\n",
       "      <th>title</th>\n",
       "      <th>video</th>\n",
       "      <th>vote_average</th>\n",
       "      <th>vote_count</th>\n",
       "      <th>cast</th>\n",
       "      <th>director</th>\n",
       "      <th>keywords</th>\n",
       "      <th>genre_names</th>\n",
       "    </tr>\n",
       "  </thead>\n",
       "  <tbody>\n",
       "    <tr>\n",
       "      <th>0</th>\n",
       "      <td>FALSE</td>\n",
       "      <td>/yDHYTfA3R0jFYba16jBB1ef8oIt.jpg</td>\n",
       "      <td>[28, 35, 878]</td>\n",
       "      <td>533535</td>\n",
       "      <td>en</td>\n",
       "      <td>Deadpool &amp; Wolverine</td>\n",
       "      <td>A listless Wade Wilson toils away in civilian ...</td>\n",
       "      <td>5464.692</td>\n",
       "      <td>/8cdWjvZQUExUUTzyp4t6EDMubfO.jpg</td>\n",
       "      <td>24-07-2024</td>\n",
       "      <td>Deadpool &amp; Wolverine</td>\n",
       "      <td>FALSE</td>\n",
       "      <td>7.800</td>\n",
       "      <td>2414.0</td>\n",
       "      <td>['Ryan Reynolds', 'Hugh Jackman', 'Emma Corrin']</td>\n",
       "      <td>Shawn Levy</td>\n",
       "      <td>['hero', 'superhero', 'anti hero', 'mutant', '...</td>\n",
       "      <td>['Action', 'Comedy', 'Science Fiction']</td>\n",
       "    </tr>\n",
       "    <tr>\n",
       "      <th>1</th>\n",
       "      <td>FALSE</td>\n",
       "      <td>/stKGOm8UyhuLPR9sZLjs5AkmncA.jpg</td>\n",
       "      <td>[16, 10751, 12, 35]</td>\n",
       "      <td>1022789</td>\n",
       "      <td>en</td>\n",
       "      <td>Inside Out 2</td>\n",
       "      <td>Teenager Riley's mind headquarters is undergoi...</td>\n",
       "      <td>2641.200</td>\n",
       "      <td>/vpnVM9B6NMmQpWeZvzLvDESb2QY.jpg</td>\n",
       "      <td>11-06-2024</td>\n",
       "      <td>Inside Out 2</td>\n",
       "      <td>FALSE</td>\n",
       "      <td>7.700</td>\n",
       "      <td>3024.0</td>\n",
       "      <td>['Amy Poehler', 'Maya Hawke', 'Kensington Tall...</td>\n",
       "      <td>Kelsey Mann</td>\n",
       "      <td>['sadness', 'disgust', 'sequel', 'computer ani...</td>\n",
       "      <td>['Animation', 'Family', 'Adventure', 'Comedy']</td>\n",
       "    </tr>\n",
       "    <tr>\n",
       "      <th>2</th>\n",
       "      <td>FALSE</td>\n",
       "      <td>/4ft6TR9wA6bra0RLL6G7JFDQ5t1.jpg</td>\n",
       "      <td>[28, 35]</td>\n",
       "      <td>704239</td>\n",
       "      <td>en</td>\n",
       "      <td>The Union</td>\n",
       "      <td>A New Jersey construction worker goes from reg...</td>\n",
       "      <td>1686.712</td>\n",
       "      <td>/d9CTnTHip1RbVi2OQbA2LJJQAGI.jpg</td>\n",
       "      <td>15-08-2024</td>\n",
       "      <td>The Union</td>\n",
       "      <td>FALSE</td>\n",
       "      <td>6.266</td>\n",
       "      <td>396.0</td>\n",
       "      <td>['Mark Wahlberg', 'Halle Berry', 'J.K. Simmons']</td>\n",
       "      <td>Julian Farino</td>\n",
       "      <td>['espionage', 'spy', 'old flame', 'miscegenati...</td>\n",
       "      <td>['Action', 'Comedy']</td>\n",
       "    </tr>\n",
       "    <tr>\n",
       "      <th>3</th>\n",
       "      <td>FALSE</td>\n",
       "      <td>/3q01ACG0MWm0DekhvkPFCXyPZSu.jpg</td>\n",
       "      <td>[28, 80, 53, 35]</td>\n",
       "      <td>573435</td>\n",
       "      <td>en</td>\n",
       "      <td>Bad Boys: Ride or Die</td>\n",
       "      <td>After their late former Captain is framed, Low...</td>\n",
       "      <td>1751.057</td>\n",
       "      <td>/oGythE98MYleE6mZlGs5oBGkux1.jpg</td>\n",
       "      <td>05-06-2024</td>\n",
       "      <td>Bad Boys: Ride or Die</td>\n",
       "      <td>FALSE</td>\n",
       "      <td>7.580</td>\n",
       "      <td>1719.0</td>\n",
       "      <td>['Will Smith', 'Martin Lawrence', 'Vanessa Hud...</td>\n",
       "      <td>Adil El Arbi</td>\n",
       "      <td>['miami, florida', 'sequel', 'on the run', 'po...</td>\n",
       "      <td>['Action', 'Crime', 'Thriller', 'Comedy']</td>\n",
       "    </tr>\n",
       "    <tr>\n",
       "      <th>4</th>\n",
       "      <td>FALSE</td>\n",
       "      <td>/lgkPzcOSnTvjeMnuFzozRO5HHw1.jpg</td>\n",
       "      <td>[16, 10751, 35, 28]</td>\n",
       "      <td>519182</td>\n",
       "      <td>en</td>\n",
       "      <td>Despicable Me 4</td>\n",
       "      <td>Gru and Lucy and their girls—Margo, Edith and ...</td>\n",
       "      <td>2051.558</td>\n",
       "      <td>/wWba3TaojhK7NdycRhoQpsG0FaH.jpg</td>\n",
       "      <td>20-06-2024</td>\n",
       "      <td>Despicable Me 4</td>\n",
       "      <td>FALSE</td>\n",
       "      <td>7.300</td>\n",
       "      <td>1257.0</td>\n",
       "      <td>['Steve Carell', 'Kristen Wiig', 'Will Ferrell']</td>\n",
       "      <td>Chris Renaud</td>\n",
       "      <td>['superhero', 'villain', 'sequel', 'super vill...</td>\n",
       "      <td>['Animation', 'Family', 'Comedy', 'Action']</td>\n",
       "    </tr>\n",
       "  </tbody>\n",
       "</table>\n",
       "</div>"
      ],
      "text/plain": [
       "   adult                     backdrop_path            genre_ids       id  \\\n",
       "0  FALSE  /yDHYTfA3R0jFYba16jBB1ef8oIt.jpg        [28, 35, 878]   533535   \n",
       "1  FALSE  /stKGOm8UyhuLPR9sZLjs5AkmncA.jpg  [16, 10751, 12, 35]  1022789   \n",
       "2  FALSE  /4ft6TR9wA6bra0RLL6G7JFDQ5t1.jpg             [28, 35]   704239   \n",
       "3  FALSE  /3q01ACG0MWm0DekhvkPFCXyPZSu.jpg     [28, 80, 53, 35]   573435   \n",
       "4  FALSE  /lgkPzcOSnTvjeMnuFzozRO5HHw1.jpg  [16, 10751, 35, 28]   519182   \n",
       "\n",
       "  original_language         original_title  \\\n",
       "0                en   Deadpool & Wolverine   \n",
       "1                en           Inside Out 2   \n",
       "2                en              The Union   \n",
       "3                en  Bad Boys: Ride or Die   \n",
       "4                en        Despicable Me 4   \n",
       "\n",
       "                                            overview  popularity  \\\n",
       "0  A listless Wade Wilson toils away in civilian ...    5464.692   \n",
       "1  Teenager Riley's mind headquarters is undergoi...    2641.200   \n",
       "2  A New Jersey construction worker goes from reg...    1686.712   \n",
       "3  After their late former Captain is framed, Low...    1751.057   \n",
       "4  Gru and Lucy and their girls—Margo, Edith and ...    2051.558   \n",
       "\n",
       "                        poster_path release_date                  title  \\\n",
       "0  /8cdWjvZQUExUUTzyp4t6EDMubfO.jpg   24-07-2024   Deadpool & Wolverine   \n",
       "1  /vpnVM9B6NMmQpWeZvzLvDESb2QY.jpg   11-06-2024           Inside Out 2   \n",
       "2  /d9CTnTHip1RbVi2OQbA2LJJQAGI.jpg   15-08-2024              The Union   \n",
       "3  /oGythE98MYleE6mZlGs5oBGkux1.jpg   05-06-2024  Bad Boys: Ride or Die   \n",
       "4  /wWba3TaojhK7NdycRhoQpsG0FaH.jpg   20-06-2024        Despicable Me 4   \n",
       "\n",
       "   video  vote_average  vote_count  \\\n",
       "0  FALSE         7.800      2414.0   \n",
       "1  FALSE         7.700      3024.0   \n",
       "2  FALSE         6.266       396.0   \n",
       "3  FALSE         7.580      1719.0   \n",
       "4  FALSE         7.300      1257.0   \n",
       "\n",
       "                                                cast       director  \\\n",
       "0   ['Ryan Reynolds', 'Hugh Jackman', 'Emma Corrin']     Shawn Levy   \n",
       "1  ['Amy Poehler', 'Maya Hawke', 'Kensington Tall...    Kelsey Mann   \n",
       "2   ['Mark Wahlberg', 'Halle Berry', 'J.K. Simmons']  Julian Farino   \n",
       "3  ['Will Smith', 'Martin Lawrence', 'Vanessa Hud...   Adil El Arbi   \n",
       "4   ['Steve Carell', 'Kristen Wiig', 'Will Ferrell']   Chris Renaud   \n",
       "\n",
       "                                            keywords  \\\n",
       "0  ['hero', 'superhero', 'anti hero', 'mutant', '...   \n",
       "1  ['sadness', 'disgust', 'sequel', 'computer ani...   \n",
       "2  ['espionage', 'spy', 'old flame', 'miscegenati...   \n",
       "3  ['miami, florida', 'sequel', 'on the run', 'po...   \n",
       "4  ['superhero', 'villain', 'sequel', 'super vill...   \n",
       "\n",
       "                                      genre_names  \n",
       "0         ['Action', 'Comedy', 'Science Fiction']  \n",
       "1  ['Animation', 'Family', 'Adventure', 'Comedy']  \n",
       "2                            ['Action', 'Comedy']  \n",
       "3       ['Action', 'Crime', 'Thriller', 'Comedy']  \n",
       "4     ['Animation', 'Family', 'Comedy', 'Action']  "
      ]
     },
     "execution_count": 4,
     "metadata": {},
     "output_type": "execute_result"
    }
   ],
   "source": [
    "df.head()"
   ]
  },
  {
   "cell_type": "code",
   "execution_count": 5,
   "metadata": {},
   "outputs": [
    {
     "data": {
      "text/html": [
       "<div>\n",
       "<style scoped>\n",
       "    .dataframe tbody tr th:only-of-type {\n",
       "        vertical-align: middle;\n",
       "    }\n",
       "\n",
       "    .dataframe tbody tr th {\n",
       "        vertical-align: top;\n",
       "    }\n",
       "\n",
       "    .dataframe thead th {\n",
       "        text-align: right;\n",
       "    }\n",
       "</style>\n",
       "<table border=\"1\" class=\"dataframe\">\n",
       "  <thead>\n",
       "    <tr style=\"text-align: right;\">\n",
       "      <th></th>\n",
       "      <th>adult</th>\n",
       "      <th>backdrop_path</th>\n",
       "      <th>genre_ids</th>\n",
       "      <th>id</th>\n",
       "      <th>original_language</th>\n",
       "      <th>original_title</th>\n",
       "      <th>overview</th>\n",
       "      <th>popularity</th>\n",
       "      <th>poster_path</th>\n",
       "      <th>release_date</th>\n",
       "      <th>title</th>\n",
       "      <th>video</th>\n",
       "      <th>vote_average</th>\n",
       "      <th>vote_count</th>\n",
       "      <th>cast</th>\n",
       "      <th>director</th>\n",
       "      <th>keywords</th>\n",
       "      <th>genre_names</th>\n",
       "    </tr>\n",
       "  </thead>\n",
       "  <tbody>\n",
       "    <tr>\n",
       "      <th>3031</th>\n",
       "      <td>FALSE</td>\n",
       "      <td>/x0vosvNAhzINvPxJ4AJ3tBCAFyn.jpg</td>\n",
       "      <td>[10402, 18, 10749]</td>\n",
       "      <td>85446</td>\n",
       "      <td>en</td>\n",
       "      <td>Step Up Revolution</td>\n",
       "      <td>Emily arrives in Miami with aspirations to bec...</td>\n",
       "      <td>36.362</td>\n",
       "      <td>/ab9T58BlOPauWd9tMnK0HhwYY7u.jpg</td>\n",
       "      <td>26-07-2012</td>\n",
       "      <td>Step Up Revolution</td>\n",
       "      <td>FALSE</td>\n",
       "      <td>6.921</td>\n",
       "      <td>2009.0</td>\n",
       "      <td>['Kathryn McCormick', 'Ryan Guzman', 'Misha Ga...</td>\n",
       "      <td>Scott Speer</td>\n",
       "      <td>['flash mob', 'dance instructor', 'real estate...</td>\n",
       "      <td>['Music', 'Drama', 'Romance']</td>\n",
       "    </tr>\n",
       "    <tr>\n",
       "      <th>3529</th>\n",
       "      <td>FALSE</td>\n",
       "      <td>/q46nyik6GeDkUV6wQGiZQ97UuP6.jpg</td>\n",
       "      <td>[27, 53]</td>\n",
       "      <td>579</td>\n",
       "      <td>en</td>\n",
       "      <td>Jaws 2</td>\n",
       "      <td>Police chief Brody must protect the citizens o...</td>\n",
       "      <td>34.170</td>\n",
       "      <td>/cN3ijEwsn4kBaRuHfcJpAQJbeWe.jpg</td>\n",
       "      <td>16-06-1978</td>\n",
       "      <td>Jaws 2</td>\n",
       "      <td>FALSE</td>\n",
       "      <td>5.973</td>\n",
       "      <td>1847.0</td>\n",
       "      <td>['Roy Scheider', 'Lorraine Gary', 'Murray Hami...</td>\n",
       "      <td>Jeannot Szwarc</td>\n",
       "      <td>['dying and death', 'rescue', 'island', 'panic...</td>\n",
       "      <td>['Horror', 'Thriller']</td>\n",
       "    </tr>\n",
       "    <tr>\n",
       "      <th>4401</th>\n",
       "      <td>FALSE</td>\n",
       "      <td>/69WsMlPt0JC1fIOG5S3a2XD83NR.jpg</td>\n",
       "      <td>[35, 18]</td>\n",
       "      <td>73881</td>\n",
       "      <td>fr</td>\n",
       "      <td>La Fonte des neiges</td>\n",
       "      <td>Léo is dragged to a nudist camping resort by h...</td>\n",
       "      <td>29.078</td>\n",
       "      <td>/yu2lpgsWZg3u8LrYkM23S0VRHk6.jpg</td>\n",
       "      <td>31-01-2009</td>\n",
       "      <td>Thawing Out</td>\n",
       "      <td>FALSE</td>\n",
       "      <td>5.800</td>\n",
       "      <td>35.0</td>\n",
       "      <td>['Marc Beffa', 'Géraldine Martineau', 'Zazon C...</td>\n",
       "      <td>Jean-Julien Chervier</td>\n",
       "      <td>['nudist camp', 'shyness', 'camping', 'vacatio...</td>\n",
       "      <td>['Comedy', 'Drama']</td>\n",
       "    </tr>\n",
       "    <tr>\n",
       "      <th>4331</th>\n",
       "      <td>FALSE</td>\n",
       "      <td>/g94iU9b2qJDvs4wukICvoYv8xdQ.jpg</td>\n",
       "      <td>[10751, 16, 12, 35, 80]</td>\n",
       "      <td>15371</td>\n",
       "      <td>ja</td>\n",
       "      <td>ルパン三世 カリオストロの城</td>\n",
       "      <td>After a successful robbery leaves famed thief ...</td>\n",
       "      <td>42.668</td>\n",
       "      <td>/vRWNAjvhY3vIOirWONi50y9bFDW.jpg</td>\n",
       "      <td>06-07-1979</td>\n",
       "      <td>Lupin the Third: The Castle of Cagliostro</td>\n",
       "      <td>FALSE</td>\n",
       "      <td>7.535</td>\n",
       "      <td>1001.0</td>\n",
       "      <td>['Yasuo Yamada', 'Kiyoshi Kobayashi', 'Eiko Ma...</td>\n",
       "      <td>Hayao Miyazaki</td>\n",
       "      <td>['treasure', 'samurai', 'casino', 'clock tower...</td>\n",
       "      <td>['Family', 'Animation', 'Adventure', 'Comedy',...</td>\n",
       "    </tr>\n",
       "    <tr>\n",
       "      <th>4495</th>\n",
       "      <td>FALSE</td>\n",
       "      <td>/wErO9CjV8pjhO6MsyggEwBClDty.jpg</td>\n",
       "      <td>[16, 9648, 14, 27]</td>\n",
       "      <td>725064</td>\n",
       "      <td>ja</td>\n",
       "      <td>アムリタの饗宴</td>\n",
       "      <td>The story centers on a high school girl named ...</td>\n",
       "      <td>23.286</td>\n",
       "      <td>/eHt9KnmZDQBiEnhk7hoYcKxCiwX.jpg</td>\n",
       "      <td>26-05-2023</td>\n",
       "      <td>The Feast of Amrita</td>\n",
       "      <td>FALSE</td>\n",
       "      <td>6.000</td>\n",
       "      <td>1.0</td>\n",
       "      <td>['Maaya Uchida', 'Mamiko Noto', 'Kana Hanazawa']</td>\n",
       "      <td>Saku Sakamoto</td>\n",
       "      <td>['gore', 'survival', 'schoolgirl', 'supernatur...</td>\n",
       "      <td>['Animation', 'Mystery', 'Fantasy', 'Horror']</td>\n",
       "    </tr>\n",
       "  </tbody>\n",
       "</table>\n",
       "</div>"
      ],
      "text/plain": [
       "      adult                     backdrop_path                genre_ids  \\\n",
       "3031  FALSE  /x0vosvNAhzINvPxJ4AJ3tBCAFyn.jpg       [10402, 18, 10749]   \n",
       "3529  FALSE  /q46nyik6GeDkUV6wQGiZQ97UuP6.jpg                 [27, 53]   \n",
       "4401  FALSE  /69WsMlPt0JC1fIOG5S3a2XD83NR.jpg                 [35, 18]   \n",
       "4331  FALSE  /g94iU9b2qJDvs4wukICvoYv8xdQ.jpg  [10751, 16, 12, 35, 80]   \n",
       "4495  FALSE  /wErO9CjV8pjhO6MsyggEwBClDty.jpg       [16, 9648, 14, 27]   \n",
       "\n",
       "          id original_language       original_title  \\\n",
       "3031   85446                en   Step Up Revolution   \n",
       "3529     579                en               Jaws 2   \n",
       "4401   73881                fr  La Fonte des neiges   \n",
       "4331   15371                ja       ルパン三世 カリオストロの城   \n",
       "4495  725064                ja              アムリタの饗宴   \n",
       "\n",
       "                                               overview  popularity  \\\n",
       "3031  Emily arrives in Miami with aspirations to bec...      36.362   \n",
       "3529  Police chief Brody must protect the citizens o...      34.170   \n",
       "4401  Léo is dragged to a nudist camping resort by h...      29.078   \n",
       "4331  After a successful robbery leaves famed thief ...      42.668   \n",
       "4495  The story centers on a high school girl named ...      23.286   \n",
       "\n",
       "                           poster_path release_date  \\\n",
       "3031  /ab9T58BlOPauWd9tMnK0HhwYY7u.jpg   26-07-2012   \n",
       "3529  /cN3ijEwsn4kBaRuHfcJpAQJbeWe.jpg   16-06-1978   \n",
       "4401  /yu2lpgsWZg3u8LrYkM23S0VRHk6.jpg   31-01-2009   \n",
       "4331  /vRWNAjvhY3vIOirWONi50y9bFDW.jpg   06-07-1979   \n",
       "4495  /eHt9KnmZDQBiEnhk7hoYcKxCiwX.jpg   26-05-2023   \n",
       "\n",
       "                                          title  video  vote_average  \\\n",
       "3031                         Step Up Revolution  FALSE         6.921   \n",
       "3529                                     Jaws 2  FALSE         5.973   \n",
       "4401                                Thawing Out  FALSE         5.800   \n",
       "4331  Lupin the Third: The Castle of Cagliostro  FALSE         7.535   \n",
       "4495                        The Feast of Amrita  FALSE         6.000   \n",
       "\n",
       "      vote_count                                               cast  \\\n",
       "3031      2009.0  ['Kathryn McCormick', 'Ryan Guzman', 'Misha Ga...   \n",
       "3529      1847.0  ['Roy Scheider', 'Lorraine Gary', 'Murray Hami...   \n",
       "4401        35.0  ['Marc Beffa', 'Géraldine Martineau', 'Zazon C...   \n",
       "4331      1001.0  ['Yasuo Yamada', 'Kiyoshi Kobayashi', 'Eiko Ma...   \n",
       "4495         1.0   ['Maaya Uchida', 'Mamiko Noto', 'Kana Hanazawa']   \n",
       "\n",
       "                  director                                           keywords  \\\n",
       "3031           Scott Speer  ['flash mob', 'dance instructor', 'real estate...   \n",
       "3529        Jeannot Szwarc  ['dying and death', 'rescue', 'island', 'panic...   \n",
       "4401  Jean-Julien Chervier  ['nudist camp', 'shyness', 'camping', 'vacatio...   \n",
       "4331        Hayao Miyazaki  ['treasure', 'samurai', 'casino', 'clock tower...   \n",
       "4495         Saku Sakamoto  ['gore', 'survival', 'schoolgirl', 'supernatur...   \n",
       "\n",
       "                                            genre_names  \n",
       "3031                      ['Music', 'Drama', 'Romance']  \n",
       "3529                             ['Horror', 'Thriller']  \n",
       "4401                                ['Comedy', 'Drama']  \n",
       "4331  ['Family', 'Animation', 'Adventure', 'Comedy',...  \n",
       "4495      ['Animation', 'Mystery', 'Fantasy', 'Horror']  "
      ]
     },
     "execution_count": 5,
     "metadata": {},
     "output_type": "execute_result"
    }
   ],
   "source": [
    "df.sample(5)"
   ]
  },
  {
   "cell_type": "code",
   "execution_count": 6,
   "metadata": {},
   "outputs": [
    {
     "data": {
      "text/plain": [
       "(5002, 18)"
      ]
     },
     "execution_count": 6,
     "metadata": {},
     "output_type": "execute_result"
    }
   ],
   "source": [
    "df.shape"
   ]
  },
  {
   "cell_type": "code",
   "execution_count": 7,
   "metadata": {},
   "outputs": [
    {
     "data": {
      "text/plain": [
       "Index(['adult', 'backdrop_path', 'genre_ids', 'id', 'original_language',\n",
       "       'original_title', 'overview', 'popularity', 'poster_path',\n",
       "       'release_date', 'title', 'video', 'vote_average', 'vote_count', 'cast',\n",
       "       'director', 'keywords', 'genre_names'],\n",
       "      dtype='object')"
      ]
     },
     "execution_count": 7,
     "metadata": {},
     "output_type": "execute_result"
    }
   ],
   "source": [
    "df.columns"
   ]
  },
  {
   "cell_type": "markdown",
   "metadata": {},
   "source": [
    "## Extracting id and respective poster_path\n",
    "this will be helpful in showing posters along with recommended movie names."
   ]
  },
  {
   "cell_type": "code",
   "execution_count": 8,
   "metadata": {},
   "outputs": [],
   "source": [
    "poster_paths = df[['id', 'poster_path']]"
   ]
  },
  {
   "cell_type": "code",
   "execution_count": 9,
   "metadata": {},
   "outputs": [],
   "source": [
    "pickle.dump(poster_paths, open('poster_paths.pkl', 'wb'))"
   ]
  },
  {
   "cell_type": "markdown",
   "metadata": {},
   "source": [
    "## Filtering columns \n",
    "Only keeping those columns which will help in building recommender system."
   ]
  },
  {
   "cell_type": "code",
   "execution_count": 10,
   "metadata": {},
   "outputs": [
    {
     "data": {
      "text/plain": [
       "original_language\n",
       "en         3798\n",
       "ja          314\n",
       "ko          153\n",
       "es          134\n",
       "fr          121\n",
       "zh           81\n",
       "it           68\n",
       "cn           56\n",
       "tl           32\n",
       "ru           29\n",
       "hi           28\n",
       "de           25\n",
       "th           19\n",
       "sv           17\n",
       "pt           15\n",
       "id           14\n",
       "no           14\n",
       "pl           12\n",
       "tr            9\n",
       "te            7\n",
       "da            7\n",
       "ta            6\n",
       "nl            6\n",
       "ar            4\n",
       "kn            3\n",
       "ca            3\n",
       "el            3\n",
       "mn            2\n",
       "vi            2\n",
       "sr            2\n",
       "is            2\n",
       "fi            2\n",
       "uk            2\n",
       "ml            2\n",
       "bn            2\n",
       "XXXXXXX       2\n",
       "cs            1\n",
       "lt            1\n",
       "hr            1\n",
       "ms            1\n",
       "mk            1\n",
       "yo            1\n",
       "Name: count, dtype: int64"
      ]
     },
     "execution_count": 10,
     "metadata": {},
     "output_type": "execute_result"
    }
   ],
   "source": [
    "df['original_language'].value_counts()"
   ]
  },
  {
   "cell_type": "code",
   "execution_count": 15,
   "metadata": {},
   "outputs": [
    {
     "data": {
      "text/plain": [
       "0.759296281487405"
      ]
     },
     "execution_count": 15,
     "metadata": {},
     "output_type": "execute_result"
    }
   ],
   "source": [
    "df[df['original_language'] == 'en'].shape[0]/df.shape[0]\n",
    "# more than 75% of movies are in english so not important column"
   ]
  },
  {
   "cell_type": "code",
   "execution_count": 16,
   "metadata": {},
   "outputs": [
    {
     "data": {
      "text/plain": [
       "adult\n",
       "FALSE                                                 5000\n",
       " Of the domestic exploration for finding my voice.       2\n",
       "Name: count, dtype: int64"
      ]
     },
     "execution_count": 16,
     "metadata": {},
     "output_type": "execute_result"
    }
   ],
   "source": [
    "df['adult'].value_counts()"
   ]
  },
  {
   "cell_type": "markdown",
   "metadata": {},
   "source": [
    "### columns to include\n",
    "- id\n",
    "- title\n",
    "- overview\n",
    "- genre_names \n",
    "- keywords\n",
    "- cast \n",
    "- director"
   ]
  },
  {
   "cell_type": "code",
   "execution_count": 17,
   "metadata": {},
   "outputs": [],
   "source": [
    "df2 = df.copy()"
   ]
  },
  {
   "cell_type": "code",
   "execution_count": 18,
   "metadata": {},
   "outputs": [],
   "source": [
    "df = df[['id', 'title', 'overview', 'genre_names', 'keywords', 'cast', 'director']]"
   ]
  },
  {
   "cell_type": "markdown",
   "metadata": {},
   "source": [
    "## Handling duplicate values"
   ]
  },
  {
   "cell_type": "code",
   "execution_count": 19,
   "metadata": {},
   "outputs": [
    {
     "data": {
      "text/plain": [
       "113"
      ]
     },
     "execution_count": 19,
     "metadata": {},
     "output_type": "execute_result"
    }
   ],
   "source": [
    "df.duplicated().sum()"
   ]
  },
  {
   "cell_type": "code",
   "execution_count": 20,
   "metadata": {},
   "outputs": [
    {
     "data": {
      "text/html": [
       "<div>\n",
       "<style scoped>\n",
       "    .dataframe tbody tr th:only-of-type {\n",
       "        vertical-align: middle;\n",
       "    }\n",
       "\n",
       "    .dataframe tbody tr th {\n",
       "        vertical-align: top;\n",
       "    }\n",
       "\n",
       "    .dataframe thead th {\n",
       "        text-align: right;\n",
       "    }\n",
       "</style>\n",
       "<table border=\"1\" class=\"dataframe\">\n",
       "  <thead>\n",
       "    <tr style=\"text-align: right;\">\n",
       "      <th></th>\n",
       "      <th>id</th>\n",
       "      <th>title</th>\n",
       "      <th>overview</th>\n",
       "      <th>genre_names</th>\n",
       "      <th>keywords</th>\n",
       "      <th>cast</th>\n",
       "      <th>director</th>\n",
       "    </tr>\n",
       "  </thead>\n",
       "  <tbody>\n",
       "    <tr>\n",
       "      <th>60</th>\n",
       "      <td>299536</td>\n",
       "      <td>Avengers: Infinity War</td>\n",
       "      <td>As the Avengers and their allies have continue...</td>\n",
       "      <td>['Adventure', 'Action', 'Science Fiction']</td>\n",
       "      <td>['sacrifice', 'magic', 'superhero', 'based on ...</td>\n",
       "      <td>['Robert Downey Jr.', 'Chris Evans', 'Chris He...</td>\n",
       "      <td>Anthony Russo</td>\n",
       "    </tr>\n",
       "    <tr>\n",
       "      <th>61</th>\n",
       "      <td>943344</td>\n",
       "      <td>Underground Monster</td>\n",
       "      <td>Near a remote town, the repeated dumping of to...</td>\n",
       "      <td>['Fantasy', 'Adventure']</td>\n",
       "      <td>[]</td>\n",
       "      <td>['Wei Wei', 'Wei Lu', 'Zhang Chunzhong']</td>\n",
       "      <td>Huang He</td>\n",
       "    </tr>\n",
       "    <tr>\n",
       "      <th>62</th>\n",
       "      <td>7451</td>\n",
       "      <td>xXx</td>\n",
       "      <td>Xander Cage is your standard adrenaline junkie...</td>\n",
       "      <td>['Action', 'Adventure', 'Thriller', 'Crime']</td>\n",
       "      <td>['mission', 'biological weapon', 'sports car',...</td>\n",
       "      <td>['Vin Diesel', 'Asia Argento', 'Marton Csokas']</td>\n",
       "      <td>Rob Cohen</td>\n",
       "    </tr>\n",
       "    <tr>\n",
       "      <th>98</th>\n",
       "      <td>1032823</td>\n",
       "      <td>Trap</td>\n",
       "      <td>A father and teen daughter attend a pop concer...</td>\n",
       "      <td>['Crime', 'Thriller', 'Horror', 'Mystery']</td>\n",
       "      <td>['concert', 'philadelphia, pennsylvania', 'dou...</td>\n",
       "      <td>['Josh Hartnett', 'Ariel Donoghue', 'Saleka']</td>\n",
       "      <td>M. Night Shyamalan</td>\n",
       "    </tr>\n",
       "    <tr>\n",
       "      <th>200</th>\n",
       "      <td>866398</td>\n",
       "      <td>The Beekeeper</td>\n",
       "      <td>One man's campaign for vengeance takes on nati...</td>\n",
       "      <td>['Crime', 'Action', 'Adventure', 'Thriller']</td>\n",
       "      <td>['potus', 'secret government agency', 'fbi age...</td>\n",
       "      <td>['Jason Statham', 'Emmy Raver-Lampman', 'Bobby...</td>\n",
       "      <td>David Ayer</td>\n",
       "    </tr>\n",
       "    <tr>\n",
       "      <th>...</th>\n",
       "      <td>...</td>\n",
       "      <td>...</td>\n",
       "      <td>...</td>\n",
       "      <td>...</td>\n",
       "      <td>...</td>\n",
       "      <td>...</td>\n",
       "      <td>...</td>\n",
       "    </tr>\n",
       "    <tr>\n",
       "      <th>4824</th>\n",
       "      <td>11284</td>\n",
       "      <td>Freddy's Dead: The Final Nightmare</td>\n",
       "      <td>Just when you thought it was safe to sleep, Fr...</td>\n",
       "      <td>['Horror', 'Thriller']</td>\n",
       "      <td>['amnesia', 'dream', 'nightmare', 'sadism', 'p...</td>\n",
       "      <td>['Robert Englund', 'Lisa Zane', 'Shon Greenbla...</td>\n",
       "      <td>Rachel Talalay</td>\n",
       "    </tr>\n",
       "    <tr>\n",
       "      <th>4862</th>\n",
       "      <td>1072876</td>\n",
       "      <td>Self Reliance</td>\n",
       "      <td>When a man is offered a million dollars to pla...</td>\n",
       "      <td>['Comedy', 'Thriller']</td>\n",
       "      <td>['boredom', 'homeless', 'dark web', 'reality s...</td>\n",
       "      <td>['Jake Johnson', 'Anna Kendrick', 'Natalie Mor...</td>\n",
       "      <td>Jake Johnson</td>\n",
       "    </tr>\n",
       "    <tr>\n",
       "      <th>4922</th>\n",
       "      <td>527776</td>\n",
       "      <td>Overcomer</td>\n",
       "      <td>After reluctantly agreeing to coach cross-coun...</td>\n",
       "      <td>['Drama']</td>\n",
       "      <td>['sports', 'christianity', 'cross country']</td>\n",
       "      <td>['Alex Kendrick', 'Priscilla C. Shirer', 'Came...</td>\n",
       "      <td>Alex Kendrick</td>\n",
       "    </tr>\n",
       "    <tr>\n",
       "      <th>4923</th>\n",
       "      <td>109443</td>\n",
       "      <td>Anchorman 2: The Legend Continues</td>\n",
       "      <td>With the 70s behind him, San Diego's top rated...</td>\n",
       "      <td>['Comedy']</td>\n",
       "      <td>['journalism', 'language', 'mustache', 'gang w...</td>\n",
       "      <td>['Will Ferrell', 'Steve Carell', 'Paul Rudd']</td>\n",
       "      <td>Adam McKay</td>\n",
       "    </tr>\n",
       "    <tr>\n",
       "      <th>4924</th>\n",
       "      <td>242643</td>\n",
       "      <td>Batman: Assault on Arkham</td>\n",
       "      <td>Batman works desperately to find a bomb plante...</td>\n",
       "      <td>['Thriller', 'Animation', 'Action', 'Crime']</td>\n",
       "      <td>['superhero', 'based on comic', 'spin off']</td>\n",
       "      <td>['Kevin Conroy', 'Neal McDonough', 'Hynden Wal...</td>\n",
       "      <td>Ethan Spaulding</td>\n",
       "    </tr>\n",
       "  </tbody>\n",
       "</table>\n",
       "<p>113 rows × 7 columns</p>\n",
       "</div>"
      ],
      "text/plain": [
       "           id                               title  \\\n",
       "60     299536              Avengers: Infinity War   \n",
       "61     943344                 Underground Monster   \n",
       "62       7451                                 xXx   \n",
       "98    1032823                                Trap   \n",
       "200    866398                       The Beekeeper   \n",
       "...       ...                                 ...   \n",
       "4824    11284  Freddy's Dead: The Final Nightmare   \n",
       "4862  1072876                       Self Reliance   \n",
       "4922   527776                           Overcomer   \n",
       "4923   109443   Anchorman 2: The Legend Continues   \n",
       "4924   242643           Batman: Assault on Arkham   \n",
       "\n",
       "                                               overview  \\\n",
       "60    As the Avengers and their allies have continue...   \n",
       "61    Near a remote town, the repeated dumping of to...   \n",
       "62    Xander Cage is your standard adrenaline junkie...   \n",
       "98    A father and teen daughter attend a pop concer...   \n",
       "200   One man's campaign for vengeance takes on nati...   \n",
       "...                                                 ...   \n",
       "4824  Just when you thought it was safe to sleep, Fr...   \n",
       "4862  When a man is offered a million dollars to pla...   \n",
       "4922  After reluctantly agreeing to coach cross-coun...   \n",
       "4923  With the 70s behind him, San Diego's top rated...   \n",
       "4924  Batman works desperately to find a bomb plante...   \n",
       "\n",
       "                                       genre_names  \\\n",
       "60      ['Adventure', 'Action', 'Science Fiction']   \n",
       "61                        ['Fantasy', 'Adventure']   \n",
       "62    ['Action', 'Adventure', 'Thriller', 'Crime']   \n",
       "98      ['Crime', 'Thriller', 'Horror', 'Mystery']   \n",
       "200   ['Crime', 'Action', 'Adventure', 'Thriller']   \n",
       "...                                            ...   \n",
       "4824                        ['Horror', 'Thriller']   \n",
       "4862                        ['Comedy', 'Thriller']   \n",
       "4922                                     ['Drama']   \n",
       "4923                                    ['Comedy']   \n",
       "4924  ['Thriller', 'Animation', 'Action', 'Crime']   \n",
       "\n",
       "                                               keywords  \\\n",
       "60    ['sacrifice', 'magic', 'superhero', 'based on ...   \n",
       "61                                                   []   \n",
       "62    ['mission', 'biological weapon', 'sports car',...   \n",
       "98    ['concert', 'philadelphia, pennsylvania', 'dou...   \n",
       "200   ['potus', 'secret government agency', 'fbi age...   \n",
       "...                                                 ...   \n",
       "4824  ['amnesia', 'dream', 'nightmare', 'sadism', 'p...   \n",
       "4862  ['boredom', 'homeless', 'dark web', 'reality s...   \n",
       "4922        ['sports', 'christianity', 'cross country']   \n",
       "4923  ['journalism', 'language', 'mustache', 'gang w...   \n",
       "4924        ['superhero', 'based on comic', 'spin off']   \n",
       "\n",
       "                                                   cast            director  \n",
       "60    ['Robert Downey Jr.', 'Chris Evans', 'Chris He...       Anthony Russo  \n",
       "61             ['Wei Wei', 'Wei Lu', 'Zhang Chunzhong']            Huang He  \n",
       "62      ['Vin Diesel', 'Asia Argento', 'Marton Csokas']           Rob Cohen  \n",
       "98        ['Josh Hartnett', 'Ariel Donoghue', 'Saleka']  M. Night Shyamalan  \n",
       "200   ['Jason Statham', 'Emmy Raver-Lampman', 'Bobby...          David Ayer  \n",
       "...                                                 ...                 ...  \n",
       "4824  ['Robert Englund', 'Lisa Zane', 'Shon Greenbla...      Rachel Talalay  \n",
       "4862  ['Jake Johnson', 'Anna Kendrick', 'Natalie Mor...        Jake Johnson  \n",
       "4922  ['Alex Kendrick', 'Priscilla C. Shirer', 'Came...       Alex Kendrick  \n",
       "4923      ['Will Ferrell', 'Steve Carell', 'Paul Rudd']          Adam McKay  \n",
       "4924  ['Kevin Conroy', 'Neal McDonough', 'Hynden Wal...     Ethan Spaulding  \n",
       "\n",
       "[113 rows x 7 columns]"
      ]
     },
     "execution_count": 20,
     "metadata": {},
     "output_type": "execute_result"
    }
   ],
   "source": [
    "df[df.duplicated()]"
   ]
  },
  {
   "cell_type": "code",
   "execution_count": 21,
   "metadata": {},
   "outputs": [],
   "source": [
    "df.drop_duplicates(inplace=True)"
   ]
  },
  {
   "cell_type": "code",
   "execution_count": 24,
   "metadata": {},
   "outputs": [
    {
     "data": {
      "text/plain": [
       "2"
      ]
     },
     "execution_count": 24,
     "metadata": {},
     "output_type": "execute_result"
    }
   ],
   "source": [
    "df[['title', 'director']].duplicated().sum()"
   ]
  },
  {
   "cell_type": "code",
   "execution_count": 25,
   "metadata": {},
   "outputs": [
    {
     "name": "stderr",
     "output_type": "stream",
     "text": [
      "C:\\Users\\DILKHUSH\\AppData\\Local\\Temp\\ipykernel_11476\\2888151636.py:1: SettingWithCopyWarning: \n",
      "A value is trying to be set on a copy of a slice from a DataFrame\n",
      "\n",
      "See the caveats in the documentation: https://pandas.pydata.org/pandas-docs/stable/user_guide/indexing.html#returning-a-view-versus-a-copy\n",
      "  df[['title', 'director']].drop_duplicates(inplace=True)\n"
     ]
    }
   ],
   "source": [
    "df[['title', 'director']].drop_duplicates(inplace=True)"
   ]
  },
  {
   "cell_type": "markdown",
   "metadata": {},
   "source": [
    "## Handling missing values"
   ]
  },
  {
   "cell_type": "code",
   "execution_count": 32,
   "metadata": {},
   "outputs": [
    {
     "data": {
      "text/plain": [
       "id              0\n",
       "title           1\n",
       "overview       34\n",
       "genre_names     2\n",
       "keywords        2\n",
       "cast            2\n",
       "director       25\n",
       "dtype: int64"
      ]
     },
     "execution_count": 32,
     "metadata": {},
     "output_type": "execute_result"
    }
   ],
   "source": [
    "df.isna().sum()"
   ]
  },
  {
   "cell_type": "code",
   "execution_count": 33,
   "metadata": {},
   "outputs": [
    {
     "data": {
      "text/html": [
       "<div>\n",
       "<style scoped>\n",
       "    .dataframe tbody tr th:only-of-type {\n",
       "        vertical-align: middle;\n",
       "    }\n",
       "\n",
       "    .dataframe tbody tr th {\n",
       "        vertical-align: top;\n",
       "    }\n",
       "\n",
       "    .dataframe thead th {\n",
       "        text-align: right;\n",
       "    }\n",
       "</style>\n",
       "<table border=\"1\" class=\"dataframe\">\n",
       "  <thead>\n",
       "    <tr style=\"text-align: right;\">\n",
       "      <th></th>\n",
       "      <th>id</th>\n",
       "      <th>title</th>\n",
       "      <th>overview</th>\n",
       "      <th>genre_names</th>\n",
       "      <th>keywords</th>\n",
       "      <th>cast</th>\n",
       "      <th>director</th>\n",
       "    </tr>\n",
       "  </thead>\n",
       "  <tbody>\n",
       "    <tr>\n",
       "      <th>4179</th>\n",
       "      <td>457697</td>\n",
       "      <td>NaN</td>\n",
       "      <td>A tarot card reading as a starting point.  A d...</td>\n",
       "      <td>NaN</td>\n",
       "      <td>NaN</td>\n",
       "      <td>NaN</td>\n",
       "      <td>NaN</td>\n",
       "    </tr>\n",
       "  </tbody>\n",
       "</table>\n",
       "</div>"
      ],
      "text/plain": [
       "          id title                                           overview  \\\n",
       "4179  457697   NaN  A tarot card reading as a starting point.  A d...   \n",
       "\n",
       "     genre_names keywords cast director  \n",
       "4179         NaN      NaN  NaN      NaN  "
      ]
     },
     "execution_count": 33,
     "metadata": {},
     "output_type": "execute_result"
    }
   ],
   "source": [
    "df[df['title'].isna()]"
   ]
  },
  {
   "cell_type": "code",
   "execution_count": 34,
   "metadata": {},
   "outputs": [
    {
     "data": {
      "text/html": [
       "<div>\n",
       "<style scoped>\n",
       "    .dataframe tbody tr th:only-of-type {\n",
       "        vertical-align: middle;\n",
       "    }\n",
       "\n",
       "    .dataframe tbody tr th {\n",
       "        vertical-align: top;\n",
       "    }\n",
       "\n",
       "    .dataframe thead th {\n",
       "        text-align: right;\n",
       "    }\n",
       "</style>\n",
       "<table border=\"1\" class=\"dataframe\">\n",
       "  <thead>\n",
       "    <tr style=\"text-align: right;\">\n",
       "      <th></th>\n",
       "      <th>id</th>\n",
       "      <th>title</th>\n",
       "      <th>overview</th>\n",
       "      <th>genre_names</th>\n",
       "      <th>keywords</th>\n",
       "      <th>cast</th>\n",
       "      <th>director</th>\n",
       "    </tr>\n",
       "  </thead>\n",
       "  <tbody>\n",
       "    <tr>\n",
       "      <th>4179</th>\n",
       "      <td>457697</td>\n",
       "      <td>NaN</td>\n",
       "      <td>A tarot card reading as a starting point.  A d...</td>\n",
       "      <td>NaN</td>\n",
       "      <td>NaN</td>\n",
       "      <td>NaN</td>\n",
       "      <td>NaN</td>\n",
       "    </tr>\n",
       "    <tr>\n",
       "      <th>4180</th>\n",
       "      <td>01-09-2016</td>\n",
       "      <td>[]</td>\n",
       "      <td>6.9</td>\n",
       "      <td>NaN</td>\n",
       "      <td>NaN</td>\n",
       "      <td>NaN</td>\n",
       "      <td>NaN</td>\n",
       "    </tr>\n",
       "  </tbody>\n",
       "</table>\n",
       "</div>"
      ],
      "text/plain": [
       "              id title                                           overview  \\\n",
       "4179      457697   NaN  A tarot card reading as a starting point.  A d...   \n",
       "4180  01-09-2016    []                                                6.9   \n",
       "\n",
       "     genre_names keywords cast director  \n",
       "4179         NaN      NaN  NaN      NaN  \n",
       "4180         NaN      NaN  NaN      NaN  "
      ]
     },
     "execution_count": 34,
     "metadata": {},
     "output_type": "execute_result"
    }
   ],
   "source": [
    "df[df['genre_names'].isna()]"
   ]
  },
  {
   "cell_type": "code",
   "execution_count": 35,
   "metadata": {},
   "outputs": [
    {
     "data": {
      "text/html": [
       "<div>\n",
       "<style scoped>\n",
       "    .dataframe tbody tr th:only-of-type {\n",
       "        vertical-align: middle;\n",
       "    }\n",
       "\n",
       "    .dataframe tbody tr th {\n",
       "        vertical-align: top;\n",
       "    }\n",
       "\n",
       "    .dataframe thead th {\n",
       "        text-align: right;\n",
       "    }\n",
       "</style>\n",
       "<table border=\"1\" class=\"dataframe\">\n",
       "  <thead>\n",
       "    <tr style=\"text-align: right;\">\n",
       "      <th></th>\n",
       "      <th>id</th>\n",
       "      <th>title</th>\n",
       "      <th>overview</th>\n",
       "      <th>genre_names</th>\n",
       "      <th>keywords</th>\n",
       "      <th>cast</th>\n",
       "      <th>director</th>\n",
       "    </tr>\n",
       "  </thead>\n",
       "  <tbody>\n",
       "    <tr>\n",
       "      <th>4179</th>\n",
       "      <td>457697</td>\n",
       "      <td>NaN</td>\n",
       "      <td>A tarot card reading as a starting point.  A d...</td>\n",
       "      <td>NaN</td>\n",
       "      <td>NaN</td>\n",
       "      <td>NaN</td>\n",
       "      <td>NaN</td>\n",
       "    </tr>\n",
       "    <tr>\n",
       "      <th>4180</th>\n",
       "      <td>01-09-2016</td>\n",
       "      <td>[]</td>\n",
       "      <td>6.9</td>\n",
       "      <td>NaN</td>\n",
       "      <td>NaN</td>\n",
       "      <td>NaN</td>\n",
       "      <td>NaN</td>\n",
       "    </tr>\n",
       "  </tbody>\n",
       "</table>\n",
       "</div>"
      ],
      "text/plain": [
       "              id title                                           overview  \\\n",
       "4179      457697   NaN  A tarot card reading as a starting point.  A d...   \n",
       "4180  01-09-2016    []                                                6.9   \n",
       "\n",
       "     genre_names keywords cast director  \n",
       "4179         NaN      NaN  NaN      NaN  \n",
       "4180         NaN      NaN  NaN      NaN  "
      ]
     },
     "execution_count": 35,
     "metadata": {},
     "output_type": "execute_result"
    }
   ],
   "source": [
    "df[df['keywords'].isna()]"
   ]
  },
  {
   "cell_type": "code",
   "execution_count": 36,
   "metadata": {},
   "outputs": [],
   "source": [
    "df.dropna(inplace=True)"
   ]
  },
  {
   "cell_type": "code",
   "execution_count": 37,
   "metadata": {},
   "outputs": [
    {
     "data": {
      "text/plain": [
       "id             0\n",
       "title          0\n",
       "overview       0\n",
       "genre_names    0\n",
       "keywords       0\n",
       "cast           0\n",
       "director       0\n",
       "dtype: int64"
      ]
     },
     "execution_count": 37,
     "metadata": {},
     "output_type": "execute_result"
    }
   ],
   "source": [
    "df.isna().sum()"
   ]
  },
  {
   "cell_type": "markdown",
   "metadata": {},
   "source": [
    "## Formatting textual columns into list"
   ]
  },
  {
   "cell_type": "code",
   "execution_count": 38,
   "metadata": {},
   "outputs": [
    {
     "data": {
      "text/plain": [
       "\"['Action', 'Comedy', 'Science Fiction']\""
      ]
     },
     "execution_count": 38,
     "metadata": {},
     "output_type": "execute_result"
    }
   ],
   "source": [
    "df['genre_names'][0]"
   ]
  },
  {
   "cell_type": "code",
   "execution_count": 39,
   "metadata": {},
   "outputs": [
    {
     "data": {
      "text/plain": [
       "['Action', 'Comedy', 'Science Fiction']"
      ]
     },
     "execution_count": 39,
     "metadata": {},
     "output_type": "execute_result"
    }
   ],
   "source": [
    "ast.literal_eval(\"['Action', 'Comedy', 'Science Fiction']\")"
   ]
  },
  {
   "cell_type": "code",
   "execution_count": 40,
   "metadata": {},
   "outputs": [
    {
     "data": {
      "text/plain": [
       "\"['hero', 'superhero', 'anti hero', 'mutant', 'breaking the fourth wall', 'marvel cinematic universe (mcu)', 'mutants', 'superhero teamup']\""
      ]
     },
     "execution_count": 40,
     "metadata": {},
     "output_type": "execute_result"
    }
   ],
   "source": [
    "df['keywords'][0]"
   ]
  },
  {
   "cell_type": "code",
   "execution_count": 41,
   "metadata": {},
   "outputs": [
    {
     "data": {
      "text/plain": [
       "\"['Ryan Reynolds', 'Hugh Jackman', 'Emma Corrin']\""
      ]
     },
     "execution_count": 41,
     "metadata": {},
     "output_type": "execute_result"
    }
   ],
   "source": [
    "df['cast'][0]"
   ]
  },
  {
   "cell_type": "code",
   "execution_count": 42,
   "metadata": {},
   "outputs": [
    {
     "data": {
      "text/plain": [
       "'Shawn Levy'"
      ]
     },
     "execution_count": 42,
     "metadata": {},
     "output_type": "execute_result"
    }
   ],
   "source": [
    "df['director'][0]"
   ]
  },
  {
   "cell_type": "code",
   "execution_count": 43,
   "metadata": {},
   "outputs": [],
   "source": [
    "def create_list(name):\n",
    "    return [name]"
   ]
  },
  {
   "cell_type": "markdown",
   "metadata": {},
   "source": [
    "### Creating lists from all the textual columns"
   ]
  },
  {
   "cell_type": "code",
   "execution_count": 44,
   "metadata": {},
   "outputs": [],
   "source": [
    "df['genre_names'] = df['genre_names'].apply(ast.literal_eval)\n",
    "df['keywords'] = df['keywords'].apply(ast.literal_eval)\n",
    "df['cast'] = df['cast'].apply(ast.literal_eval)\n",
    "df['director'] = df['director'].apply(create_list)\n",
    "df['overview'] = df['overview'].apply(lambda x:x.split())"
   ]
  },
  {
   "cell_type": "markdown",
   "metadata": {},
   "source": [
    "### Removing spaces between words so that meaning remains"
   ]
  },
  {
   "cell_type": "code",
   "execution_count": 45,
   "metadata": {},
   "outputs": [],
   "source": [
    "def collapse(L):\n",
    "    l = []\n",
    "    for i in L:\n",
    "        l.append(i.replace(' ', ''))\n",
    "    return l"
   ]
  },
  {
   "cell_type": "code",
   "execution_count": 46,
   "metadata": {},
   "outputs": [
    {
     "data": {
      "text/plain": [
       "0             [Action, Comedy, ScienceFiction]\n",
       "1       [Animation, Family, Adventure, Comedy]\n",
       "2                             [Action, Comedy]\n",
       "3            [Action, Crime, Thriller, Comedy]\n",
       "4          [Animation, Family, Comedy, Action]\n",
       "                         ...                  \n",
       "4997                           [Drama, Comedy]\n",
       "4998                                [Thriller]\n",
       "4999             [Action, Drama, History, War]\n",
       "5000                [Mystery, Thriller, Crime]\n",
       "5001                                  [Comedy]\n",
       "Name: genre_names, Length: 4840, dtype: object"
      ]
     },
     "execution_count": 46,
     "metadata": {},
     "output_type": "execute_result"
    }
   ],
   "source": [
    "df['genre_names'].apply(collapse)"
   ]
  },
  {
   "cell_type": "code",
   "execution_count": 47,
   "metadata": {},
   "outputs": [
    {
     "data": {
      "text/plain": [
       "0       [hero, superhero, antihero, mutant, breakingth...\n",
       "1       [sadness, disgust, sequel, computeranimation, ...\n",
       "2       [espionage, spy, oldflame, miscegenation, cons...\n",
       "3       [miami,florida, sequel, ontherun, policedetect...\n",
       "4       [superhero, villain, sequel, supervillain, ill...\n",
       "                              ...                        \n",
       "4997    [bondage, lesbianrelationship, torture, basedo...\n",
       "4998                                     [schoolshooting]\n",
       "4999    [siblingrelationship, fight, brother, worldwar...\n",
       "5000    [island, fbi, simulation, training, serialkill...\n",
       "5001    [mutiny, submarine, u.s.navy, misfit, maverick...\n",
       "Name: keywords, Length: 4840, dtype: object"
      ]
     },
     "execution_count": 47,
     "metadata": {},
     "output_type": "execute_result"
    }
   ],
   "source": [
    "df['keywords'].apply(collapse)"
   ]
  },
  {
   "cell_type": "code",
   "execution_count": 48,
   "metadata": {},
   "outputs": [
    {
     "data": {
      "text/plain": [
       "0           [RyanReynolds, HughJackman, EmmaCorrin]\n",
       "1        [AmyPoehler, MayaHawke, KensingtonTallman]\n",
       "2           [MarkWahlberg, HalleBerry, J.K.Simmons]\n",
       "3       [WillSmith, MartinLawrence, VanessaHudgens]\n",
       "4           [SteveCarell, KristenWiig, WillFerrell]\n",
       "                           ...                     \n",
       "4997    [NorikoKijima, HarunaYoshizumi, YukiMamiya]\n",
       "4998        [NaomiWatts, ColtonGobbo, SierraMaltby]\n",
       "4999        [DanielCraig, LievSchreiber, JamieBell]\n",
       "5000       [KathrynMorris, JonnyLeeMiller, LLCoolJ]\n",
       "5001     [KelseyGrammer, LaurenHolly, RobSchneider]\n",
       "Name: cast, Length: 4840, dtype: object"
      ]
     },
     "execution_count": 48,
     "metadata": {},
     "output_type": "execute_result"
    }
   ],
   "source": [
    "df['cast'].apply(collapse)"
   ]
  },
  {
   "cell_type": "code",
   "execution_count": 49,
   "metadata": {},
   "outputs": [],
   "source": [
    "df['overview'] = df['overview'].apply(collapse)\n",
    "df['genre_names'] = df['genre_names'].apply(collapse)\n",
    "df['keywords'] = df['keywords'].apply(collapse)\n",
    "df['cast'] = df['cast'].apply(collapse)\n",
    "df['director'] = df['director'].apply(collapse)"
   ]
  },
  {
   "cell_type": "code",
   "execution_count": 50,
   "metadata": {},
   "outputs": [],
   "source": [
    "df['tags'] = df['overview'] + df['genre_names'] + df['keywords'] + df['cast'] + df['director']"
   ]
  },
  {
   "cell_type": "markdown",
   "metadata": {},
   "source": [
    "### Creating new dataframe by dropping columns which are already included into tags"
   ]
  },
  {
   "cell_type": "code",
   "execution_count": 75,
   "metadata": {},
   "outputs": [],
   "source": [
    "new_df = df.drop(columns=['overview', 'genre_names', 'keywords', 'cast', 'director'])"
   ]
  },
  {
   "cell_type": "code",
   "execution_count": 76,
   "metadata": {},
   "outputs": [
    {
     "data": {
      "text/html": [
       "<div>\n",
       "<style scoped>\n",
       "    .dataframe tbody tr th:only-of-type {\n",
       "        vertical-align: middle;\n",
       "    }\n",
       "\n",
       "    .dataframe tbody tr th {\n",
       "        vertical-align: top;\n",
       "    }\n",
       "\n",
       "    .dataframe thead th {\n",
       "        text-align: right;\n",
       "    }\n",
       "</style>\n",
       "<table border=\"1\" class=\"dataframe\">\n",
       "  <thead>\n",
       "    <tr style=\"text-align: right;\">\n",
       "      <th></th>\n",
       "      <th>id</th>\n",
       "      <th>title</th>\n",
       "      <th>tags</th>\n",
       "    </tr>\n",
       "  </thead>\n",
       "  <tbody>\n",
       "    <tr>\n",
       "      <th>0</th>\n",
       "      <td>533535</td>\n",
       "      <td>Deadpool &amp; Wolverine</td>\n",
       "      <td>[A, listless, Wade, Wilson, toils, away, in, c...</td>\n",
       "    </tr>\n",
       "    <tr>\n",
       "      <th>1</th>\n",
       "      <td>1022789</td>\n",
       "      <td>Inside Out 2</td>\n",
       "      <td>[Teenager, Riley's, mind, headquarters, is, un...</td>\n",
       "    </tr>\n",
       "    <tr>\n",
       "      <th>2</th>\n",
       "      <td>704239</td>\n",
       "      <td>The Union</td>\n",
       "      <td>[A, New, Jersey, construction, worker, goes, f...</td>\n",
       "    </tr>\n",
       "    <tr>\n",
       "      <th>3</th>\n",
       "      <td>573435</td>\n",
       "      <td>Bad Boys: Ride or Die</td>\n",
       "      <td>[After, their, late, former, Captain, is, fram...</td>\n",
       "    </tr>\n",
       "    <tr>\n",
       "      <th>4</th>\n",
       "      <td>519182</td>\n",
       "      <td>Despicable Me 4</td>\n",
       "      <td>[Gru, and, Lucy, and, their, girls—Margo,, Edi...</td>\n",
       "    </tr>\n",
       "    <tr>\n",
       "      <th>...</th>\n",
       "      <td>...</td>\n",
       "      <td>...</td>\n",
       "      <td>...</td>\n",
       "    </tr>\n",
       "    <tr>\n",
       "      <th>4997</th>\n",
       "      <td>297090</td>\n",
       "      <td>The Torture Club</td>\n",
       "      <td>[The, \"Torture, Club\", is, an, official, after...</td>\n",
       "    </tr>\n",
       "    <tr>\n",
       "      <th>4998</th>\n",
       "      <td>764835</td>\n",
       "      <td>The Desperate Hour</td>\n",
       "      <td>[A, woman, desperately, races, to, save, her, ...</td>\n",
       "    </tr>\n",
       "    <tr>\n",
       "      <th>4999</th>\n",
       "      <td>13813</td>\n",
       "      <td>Defiance</td>\n",
       "      <td>[Based, on, a, true, story,, during, World, Wa...</td>\n",
       "    </tr>\n",
       "    <tr>\n",
       "      <th>5000</th>\n",
       "      <td>16617</td>\n",
       "      <td>Mindhunters</td>\n",
       "      <td>[Trainees, in, the, FBI's, psychological, prof...</td>\n",
       "    </tr>\n",
       "    <tr>\n",
       "      <th>5001</th>\n",
       "      <td>9101</td>\n",
       "      <td>Down Periscope</td>\n",
       "      <td>[Maverick, Navy, Lieutenant, Commander, Tom, D...</td>\n",
       "    </tr>\n",
       "  </tbody>\n",
       "</table>\n",
       "<p>4840 rows × 3 columns</p>\n",
       "</div>"
      ],
      "text/plain": [
       "           id                  title  \\\n",
       "0      533535   Deadpool & Wolverine   \n",
       "1     1022789           Inside Out 2   \n",
       "2      704239              The Union   \n",
       "3      573435  Bad Boys: Ride or Die   \n",
       "4      519182        Despicable Me 4   \n",
       "...       ...                    ...   \n",
       "4997   297090       The Torture Club   \n",
       "4998   764835     The Desperate Hour   \n",
       "4999    13813               Defiance   \n",
       "5000    16617            Mindhunters   \n",
       "5001     9101         Down Periscope   \n",
       "\n",
       "                                                   tags  \n",
       "0     [A, listless, Wade, Wilson, toils, away, in, c...  \n",
       "1     [Teenager, Riley's, mind, headquarters, is, un...  \n",
       "2     [A, New, Jersey, construction, worker, goes, f...  \n",
       "3     [After, their, late, former, Captain, is, fram...  \n",
       "4     [Gru, and, Lucy, and, their, girls—Margo,, Edi...  \n",
       "...                                                 ...  \n",
       "4997  [The, \"Torture, Club\", is, an, official, after...  \n",
       "4998  [A, woman, desperately, races, to, save, her, ...  \n",
       "4999  [Based, on, a, true, story,, during, World, Wa...  \n",
       "5000  [Trainees, in, the, FBI's, psychological, prof...  \n",
       "5001  [Maverick, Navy, Lieutenant, Commander, Tom, D...  \n",
       "\n",
       "[4840 rows x 3 columns]"
      ]
     },
     "execution_count": 76,
     "metadata": {},
     "output_type": "execute_result"
    }
   ],
   "source": [
    "new_df"
   ]
  },
  {
   "cell_type": "code",
   "execution_count": 77,
   "metadata": {},
   "outputs": [],
   "source": [
    "new_df['tags'] = new_df['tags'].apply(lambda x: ' '.join(x))"
   ]
  },
  {
   "cell_type": "code",
   "execution_count": 82,
   "metadata": {},
   "outputs": [],
   "source": [
    "import nltk\n",
    "from nltk.corpus import stopwords\n",
    "from nltk.stem import PorterStemmer"
   ]
  },
  {
   "cell_type": "code",
   "execution_count": 83,
   "metadata": {},
   "outputs": [
    {
     "name": "stderr",
     "output_type": "stream",
     "text": [
      "[nltk_data] Downloading package stopwords to\n",
      "[nltk_data]     C:\\Users\\DILKHUSH\\AppData\\Roaming\\nltk_data...\n",
      "[nltk_data]   Package stopwords is already up-to-date!\n"
     ]
    },
    {
     "data": {
      "text/plain": [
       "True"
      ]
     },
     "execution_count": 83,
     "metadata": {},
     "output_type": "execute_result"
    }
   ],
   "source": [
    "nltk.download('stopwords')"
   ]
  },
  {
   "cell_type": "code",
   "execution_count": 84,
   "metadata": {},
   "outputs": [],
   "source": [
    "stemmer = PorterStemmer()\n",
    "\n",
    "stop_words = set(stopwords.words('english'))\n",
    "\n",
    "def preprocess_text(text):\n",
    "    words = text.split()\n",
    "    processed_words = [stemmer.stem(word) for word in words if word.lower() not in stop_words]\n",
    "    return ' '.join(processed_words)"
   ]
  },
  {
   "cell_type": "code",
   "execution_count": 88,
   "metadata": {},
   "outputs": [],
   "source": [
    "new_df['processed_tags'] = new_df['tags'].apply(preprocess_text)"
   ]
  },
  {
   "cell_type": "markdown",
   "metadata": {},
   "source": [
    "## Vectorizing strings"
   ]
  },
  {
   "cell_type": "code",
   "execution_count": 89,
   "metadata": {},
   "outputs": [],
   "source": [
    "cv = CountVectorizer(max_features=5000, stop_words='english')"
   ]
  },
  {
   "cell_type": "code",
   "execution_count": 90,
   "metadata": {},
   "outputs": [],
   "source": [
    "vector = cv.fit_transform(new_df['processed_tags']).toarray()"
   ]
  },
  {
   "cell_type": "code",
   "execution_count": 91,
   "metadata": {},
   "outputs": [
    {
     "data": {
      "text/plain": [
       "array([[0, 0, 0, ..., 0, 0, 0],\n",
       "       [0, 0, 0, ..., 0, 0, 0],\n",
       "       [0, 0, 0, ..., 0, 0, 0],\n",
       "       ...,\n",
       "       [0, 0, 0, ..., 0, 0, 0],\n",
       "       [0, 0, 0, ..., 0, 0, 0],\n",
       "       [0, 0, 0, ..., 0, 0, 0]], dtype=int64)"
      ]
     },
     "execution_count": 91,
     "metadata": {},
     "output_type": "execute_result"
    }
   ],
   "source": [
    "vector"
   ]
  },
  {
   "cell_type": "code",
   "execution_count": 92,
   "metadata": {},
   "outputs": [
    {
     "data": {
      "text/plain": [
       "(4840, 5000)"
      ]
     },
     "execution_count": 92,
     "metadata": {},
     "output_type": "execute_result"
    }
   ],
   "source": [
    "vector.shape"
   ]
  },
  {
   "cell_type": "code",
   "execution_count": 93,
   "metadata": {},
   "outputs": [],
   "source": [
    "similarity = cosine_similarity(vector)"
   ]
  },
  {
   "cell_type": "code",
   "execution_count": 94,
   "metadata": {},
   "outputs": [
    {
     "data": {
      "text/plain": [
       "array([[1.        , 0.02486824, 0.06579517, ..., 0.02654659, 0.        ,\n",
       "        0.02142748],\n",
       "       [0.02486824, 1.        , 0.08099239, ..., 0.        , 0.        ,\n",
       "        0.035169  ],\n",
       "       [0.06579517, 0.08099239, 1.        , ..., 0.02881952, 0.        ,\n",
       "        0.02326211],\n",
       "       ...,\n",
       "       [0.02654659, 0.        , 0.02881952, ..., 1.        , 0.02934836,\n",
       "        0.03754255],\n",
       "       [0.        , 0.        , 0.        , ..., 0.02934836, 1.        ,\n",
       "        0.        ],\n",
       "       [0.02142748, 0.035169  , 0.02326211, ..., 0.03754255, 0.        ,\n",
       "        1.        ]])"
      ]
     },
     "execution_count": 94,
     "metadata": {},
     "output_type": "execute_result"
    }
   ],
   "source": [
    "similarity"
   ]
  },
  {
   "cell_type": "code",
   "execution_count": 95,
   "metadata": {},
   "outputs": [
    {
     "data": {
      "text/plain": [
       "1988"
      ]
     },
     "execution_count": 95,
     "metadata": {},
     "output_type": "execute_result"
    }
   ],
   "source": [
    "new_df[new_df['title'] == 'The Lego Movie'].index[0]"
   ]
  },
  {
   "cell_type": "code",
   "execution_count": 96,
   "metadata": {},
   "outputs": [],
   "source": [
    "def recommend(movie):\n",
    "    index = new_df[new_df['title'] == movie].index[0]\n",
    "    distances = sorted(list(enumerate(similarity[index])), reverse=True, key=lambda x:x[1])\n",
    "    for i in distances[1:6]:\n",
    "        print(new_df.iloc[i[0]].title)"
   ]
  },
  {
   "cell_type": "code",
   "execution_count": 97,
   "metadata": {},
   "outputs": [
    {
     "name": "stdout",
     "output_type": "stream",
     "text": [
      "Deadpool 2\n",
      "Deadpool: No Good Deed\n",
      "Deadpool\n",
      "Superhero Movie\n",
      "Teenage Mutant Ninja Turtles\n"
     ]
    }
   ],
   "source": [
    "recommend('Deadpool & Wolverine')"
   ]
  },
  {
   "cell_type": "code",
   "execution_count": 98,
   "metadata": {},
   "outputs": [],
   "source": [
    "import pickle"
   ]
  },
  {
   "cell_type": "code",
   "execution_count": 99,
   "metadata": {},
   "outputs": [],
   "source": [
    "pickle.dump(new_df, open('movies.pkl', 'wb'))\n",
    "pickle.dump(similarity, open('similarity.pkl', 'wb'))"
   ]
  },
  {
   "cell_type": "markdown",
   "metadata": {},
   "source": [
    "### Processing for fetching poster path"
   ]
  },
  {
   "cell_type": "code",
   "execution_count": 100,
   "metadata": {},
   "outputs": [
    {
     "data": {
      "text/plain": [
       "'/d9CTnTHip1RbVi2OQbA2LJJQAGI.jpg'"
      ]
     },
     "execution_count": 100,
     "metadata": {},
     "output_type": "execute_result"
    }
   ],
   "source": [
    "poster_paths[poster_paths['id'] == '704239']['poster_path'].values[0]"
   ]
  },
  {
   "cell_type": "code",
   "execution_count": 101,
   "metadata": {},
   "outputs": [
    {
     "data": {
      "text/html": [
       "<div>\n",
       "<style scoped>\n",
       "    .dataframe tbody tr th:only-of-type {\n",
       "        vertical-align: middle;\n",
       "    }\n",
       "\n",
       "    .dataframe tbody tr th {\n",
       "        vertical-align: top;\n",
       "    }\n",
       "\n",
       "    .dataframe thead th {\n",
       "        text-align: right;\n",
       "    }\n",
       "</style>\n",
       "<table border=\"1\" class=\"dataframe\">\n",
       "  <thead>\n",
       "    <tr style=\"text-align: right;\">\n",
       "      <th></th>\n",
       "      <th>id</th>\n",
       "      <th>title</th>\n",
       "      <th>tags</th>\n",
       "      <th>processed_tags</th>\n",
       "    </tr>\n",
       "  </thead>\n",
       "  <tbody>\n",
       "    <tr>\n",
       "      <th>2</th>\n",
       "      <td>704239</td>\n",
       "      <td>The Union</td>\n",
       "      <td>A New Jersey construction worker goes from reg...</td>\n",
       "      <td>new jersey construct worker goe regular guy as...</td>\n",
       "    </tr>\n",
       "  </tbody>\n",
       "</table>\n",
       "</div>"
      ],
      "text/plain": [
       "       id      title                                               tags  \\\n",
       "2  704239  The Union  A New Jersey construction worker goes from reg...   \n",
       "\n",
       "                                      processed_tags  \n",
       "2  new jersey construct worker goe regular guy as...  "
      ]
     },
     "execution_count": 101,
     "metadata": {},
     "output_type": "execute_result"
    }
   ],
   "source": [
    "new_df[new_df['id'] == '704239']"
   ]
  }
 ],
 "metadata": {
  "kernelspec": {
   "display_name": "Python 3",
   "language": "python",
   "name": "python3"
  },
  "language_info": {
   "codemirror_mode": {
    "name": "ipython",
    "version": 3
   },
   "file_extension": ".py",
   "mimetype": "text/x-python",
   "name": "python",
   "nbconvert_exporter": "python",
   "pygments_lexer": "ipython3",
   "version": "3.12.4"
  },
  "orig_nbformat": 4
 },
 "nbformat": 4,
 "nbformat_minor": 2
}
